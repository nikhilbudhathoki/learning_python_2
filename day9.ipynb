{
 "cells": [
  {
   "cell_type": "code",
   "execution_count": 2,
   "id": "a1941516-fa7e-4aae-9220-ea1c97dcee97",
   "metadata": {},
   "outputs": [
    {
     "name": "stdout",
     "output_type": "stream",
     "text": [
      "[[9 8]]\n"
     ]
    }
   ],
   "source": [
    "import numpy as np\n",
    "arr=np.array([[3,5]\n",
    "      ,[4,7],\n",
    "      [9,8]])\n",
    "print(arr[2:3])"
   ]
  },
  {
   "cell_type": "code",
   "execution_count": 1,
   "id": "beeb5482-a39e-4ea8-b69b-62f78838651a",
   "metadata": {},
   "outputs": [
    {
     "name": "stdout",
     "output_type": "stream",
     "text": [
      "[[9 8]]\n"
     ]
    }
   ],
   "source": [
    "import numpy as np\n",
    "arr = np.array([[3, 5], \n",
    "                [4, 7],\n",
    "                [9, 8]])\n",
    "print(arr[2:3])\n"
   ]
  },
  {
   "cell_type": "markdown",
   "id": "2edcf75d-81bb-49a3-b038-dcbc648b4018",
   "metadata": {},
   "source": [
    "## RESHAPE THE MATRIX IN NEEDED ORDER OR DIMENSION"
   ]
  },
  {
   "cell_type": "code",
   "execution_count": 8,
   "id": "11e6cbb0-f4fe-40cc-8e89-3adb70e394ca",
   "metadata": {},
   "outputs": [
    {
     "name": "stdout",
     "output_type": "stream",
     "text": [
      "[[1 2 3]\n",
      " [4 5 6]]\n"
     ]
    }
   ],
   "source": [
    "arr=np.arange(1,7).reshape(2,3)\n",
    "print(arr)"
   ]
  },
  {
   "cell_type": "code",
   "execution_count": 11,
   "id": "9725dda7-0d7c-47d6-8eb4-9595aa382066",
   "metadata": {},
   "outputs": [
    {
     "data": {
      "text/plain": [
       "array([[1, 2],\n",
       "       [3, 4],\n",
       "       [5, 6]])"
      ]
     },
     "execution_count": 11,
     "metadata": {},
     "output_type": "execute_result"
    }
   ],
   "source": [
    "arr.reshape(3,2)"
   ]
  },
  {
   "cell_type": "markdown",
   "id": "b8daa87e-4717-4ec4-9717-802d7ba56cdb",
   "metadata": {},
   "source": [
    "## CONTATINATION AND SPLITTING OF ARRAY"
   ]
  },
  {
   "cell_type": "code",
   "execution_count": 4,
   "id": "47cf4a66-8386-4bed-a6dd-bfb4273d175a",
   "metadata": {},
   "outputs": [
    {
     "data": {
      "text/plain": [
       "array([1, 2, 3, 4, 5, 6])"
      ]
     },
     "execution_count": 4,
     "metadata": {},
     "output_type": "execute_result"
    }
   ],
   "source": [
    "x=np.array([1,2,3])\n",
    "y=np.array([4,5,6])\n",
    "np.concatenate([x,y])"
   ]
  },
  {
   "cell_type": "code",
   "execution_count": 5,
   "id": "af4ee7a5-7ae3-4512-871d-e8a792cb55c2",
   "metadata": {},
   "outputs": [],
   "source": [
    "array2d=np.array([[1,2,3],[4,5,6]])"
   ]
  },
  {
   "cell_type": "code",
   "execution_count": 7,
   "id": "67b61853-34d1-4c2a-be37-b9d0b42e378c",
   "metadata": {},
   "outputs": [
    {
     "data": {
      "text/plain": [
       "array([[1, 2, 3],\n",
       "       [4, 5, 6],\n",
       "       [1, 2, 3],\n",
       "       [4, 5, 6]])"
      ]
     },
     "execution_count": 7,
     "metadata": {},
     "output_type": "execute_result"
    }
   ],
   "source": [
    "np.concatenate([array2d,array2d])#in default it adds to rows in 2d by  default ie axia=0"
   ]
  },
  {
   "cell_type": "code",
   "execution_count": 9,
   "id": "9629625e-e422-46d8-b571-6619925d171a",
   "metadata": {},
   "outputs": [
    {
     "data": {
      "text/plain": [
       "array([[1, 2, 3, 1, 2, 3],\n",
       "       [4, 5, 6, 4, 5, 6]])"
      ]
     },
     "execution_count": 9,
     "metadata": {},
     "output_type": "execute_result"
    }
   ],
   "source": [
    "array2d=np.array([[1,2,3],[4,5,6]])\n",
    "np.concatenate([array2d,array2d],axis=1)"
   ]
  },
  {
   "cell_type": "code",
   "execution_count": 11,
   "id": "eccaf4a6-4507-4117-be9a-362cbb3531a4",
   "metadata": {},
   "outputs": [
    {
     "name": "stdout",
     "output_type": "stream",
     "text": [
      "[1 2 3] [4 5] [6 7 8 9]\n"
     ]
    }
   ],
   "source": [
    "x=[1,2,3,4,5,6,7,8,9]\n",
    "x1,x2,x3=np.split(x,[3,5])\n",
    "print(x1,x2,x3)"
   ]
  },
  {
   "cell_type": "code",
   "execution_count": 12,
   "id": "c59cc2b2-20a7-464c-80e2-b54d5d22b48c",
   "metadata": {},
   "outputs": [
    {
     "name": "stdout",
     "output_type": "stream",
     "text": [
      "[1 2 3 4] [5 6 7 8] [9]\n"
     ]
    }
   ],
   "source": [
    "x1,x2,x3=np.split(x,[4,8])\n",
    "print(x1,x2,x3)\n"
   ]
  },
  {
   "cell_type": "code",
   "execution_count": 15,
   "id": "345cc66e-e5cf-4808-9567-77b90ce9fbca",
   "metadata": {},
   "outputs": [
    {
     "name": "stdout",
     "output_type": "stream",
     "text": [
      "[[ 1  2  3  4]\n",
      " [ 5  6  7  8]\n",
      " [ 9 10 11 12]\n",
      " [13 14 15 16]]\n"
     ]
    }
   ],
   "source": [
    "mt=np.arange(1,17).reshape(4,4)\n",
    "print(mt)"
   ]
  },
  {
   "cell_type": "code",
   "execution_count": 20,
   "id": "9c97574d-59d5-4c8f-aed8-7d9fac9ccc5f",
   "metadata": {},
   "outputs": [
    {
     "name": "stdout",
     "output_type": "stream",
     "text": [
      "[[1 2 3 4]\n",
      " [5 6 7 8]]\n"
     ]
    }
   ],
   "source": [
    "up,down=np.vsplit(mt,[2])\n",
    "print(up)"
   ]
  },
  {
   "cell_type": "code",
   "execution_count": 25,
   "id": "67281e0e-c1b3-4040-bdce-31628f0de1d2",
   "metadata": {},
   "outputs": [
    {
     "name": "stdout",
     "output_type": "stream",
     "text": [
      "[[ 3  4  5]\n",
      " [ 7  8  9]\n",
      " [11 12 13]\n",
      " [15 16 17]]\n"
     ]
    }
   ],
   "source": [
    "hs=np.arange(2,18).reshape(4,4)\n",
    "left,right=np.hsplit(hs,[1])\n",
    "print(right)\n"
   ]
  },
  {
   "cell_type": "code",
   "execution_count": 29,
   "id": "affc5be1-ecc0-43c9-a213-8547f8a6061c",
   "metadata": {},
   "outputs": [
    {
     "data": {
      "text/plain": [
       "array([0.16666667, 1.        , 0.25      , 0.25      , 0.125     ])"
      ]
     },
     "execution_count": 29,
     "metadata": {},
     "output_type": "execute_result"
    }
   ],
   "source": [
    "import numpy as np\n",
    "np.random.seed(0)\n",
    "def rec(values):\n",
    "    out=np.empty(len(values))\n",
    "    for i in range(len(values)):\n",
    "        output=1.0/values\n",
    "        return output\n",
    "values=np.random.randint(1,10,size=5)\n",
    "rec(values)"
   ]
  },
  {
   "cell_type": "code",
   "execution_count": null,
   "id": "d4777e66-10d3-484e-9ef4-a7efbbe516c1",
   "metadata": {},
   "outputs": [],
   "source": [
    "big_array=np.random.randint(1,100,size=1000000)\n"
   ]
  }
 ],
 "metadata": {
  "kernelspec": {
   "display_name": "Python 3 (ipykernel)",
   "language": "python",
   "name": "python3"
  },
  "language_info": {
   "codemirror_mode": {
    "name": "ipython",
    "version": 3
   },
   "file_extension": ".py",
   "mimetype": "text/x-python",
   "name": "python",
   "nbconvert_exporter": "python",
   "pygments_lexer": "ipython3",
   "version": "3.11.7"
  }
 },
 "nbformat": 4,
 "nbformat_minor": 5
}
