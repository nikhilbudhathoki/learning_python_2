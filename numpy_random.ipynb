{
 "cells": [
  {
   "cell_type": "code",
   "execution_count": 2,
   "id": "460b4c02-c9af-4165-8db8-74b7ed4b018f",
   "metadata": {},
   "outputs": [
    {
     "data": {
      "text/plain": [
       "array([0.00216463, 0.35320184, 0.61642014, 0.06850669])"
      ]
     },
     "execution_count": 2,
     "metadata": {},
     "output_type": "execute_result"
    }
   ],
   "source": [
    "import numpy as np\n",
    "np.random.rand(4)"
   ]
  },
  {
   "cell_type": "markdown",
   "id": "59cc5b9c-bf5e-4493-a3d5-4979546ebb83",
   "metadata": {},
   "source": [
    "## POSITIVE RANDOM ARRAY close to 0"
   ]
  },
  {
   "cell_type": "code",
   "execution_count": 4,
   "id": "a0a11c5f-0053-435d-ab53-db6bacf9b18d",
   "metadata": {},
   "outputs": [
    {
     "data": {
      "text/plain": [
       "array([0.44622255, 0.98504259, 0.71048136, 0.48380048])"
      ]
     },
     "execution_count": 4,
     "metadata": {},
     "output_type": "execute_result"
    }
   ],
   "source": [
    "np.random.random(4)"
   ]
  },
  {
   "cell_type": "code",
   "execution_count": 6,
   "id": "73b1b8f7-05bd-414e-9d0c-4fd6f579a321",
   "metadata": {},
   "outputs": [
    {
     "data": {
      "text/plain": [
       "array([[0.03081205, 0.41687401, 0.80968082, 0.62237104, 0.52680229],\n",
       "       [0.54579338, 0.79015471, 0.36177351, 0.7161187 , 0.29052466]])"
      ]
     },
     "execution_count": 6,
     "metadata": {},
     "output_type": "execute_result"
    }
   ],
   "source": [
    "np.random.rand(2,5)#to make multiple variable"
   ]
  },
  {
   "cell_type": "code",
   "execution_count": 7,
   "id": "78ebb8bd-b2be-4483-86f2-a6b3ae3db72b",
   "metadata": {},
   "outputs": [
    {
     "data": {
      "text/plain": [
       "array([[0.48167883, 0.01613847, 0.96450716, 0.1686269 , 0.25726687],\n",
       "       [0.11115828, 0.22747579, 0.31139788, 0.38226044, 0.25114241]])"
      ]
     },
     "execution_count": 7,
     "metadata": {},
     "output_type": "execute_result"
    }
   ],
   "source": [
    "np.random.random((2,5))#"
   ]
  },
  {
   "cell_type": "markdown",
   "id": "333b6969-c7d4-45ae-b2d7-0cf342bb83fb",
   "metadata": {},
   "source": [
    "## NEGETIVE and positive RANDOM  close to 0"
   ]
  },
  {
   "cell_type": "code",
   "execution_count": 8,
   "id": "be456175-d893-426a-aea8-3df136b1f777",
   "metadata": {},
   "outputs": [
    {
     "data": {
      "text/plain": [
       "array([[-0.53356296,  2.21870911],\n",
       "       [ 0.21498322, -1.42519112]])"
      ]
     },
     "execution_count": 8,
     "metadata": {},
     "output_type": "execute_result"
    }
   ],
   "source": [
    "np.random.randn(2,2)#2d array of negetive value and postive"
   ]
  },
  {
   "cell_type": "markdown",
   "id": "eaa64490-f6e3-4f9f-9b85-a1797bcd46dd",
   "metadata": {},
   "source": [
    "### TO GIVE VALUE IN [0,1)"
   ]
  },
  {
   "cell_type": "code",
   "execution_count": 10,
   "id": "c3c4a076-30d4-4379-9b77-cde1b083ef33",
   "metadata": {},
   "outputs": [
    {
     "data": {
      "text/plain": [
       "array([[0.09691943, 0.57790403],\n",
       "       [0.26053995, 0.64801455]])"
      ]
     },
     "execution_count": 10,
     "metadata": {},
     "output_type": "execute_result"
    }
   ],
   "source": [
    "np.random.ranf((2,2))"
   ]
  },
  {
   "cell_type": "markdown",
   "id": "fa82308c-02b5-4b70-8631-98eeb446d174",
   "metadata": {},
   "source": [
    "## To make random value array in any range"
   ]
  },
  {
   "cell_type": "code",
   "execution_count": 15,
   "id": "534752e8-0cfb-4c16-be85-ebe141b517d2",
   "metadata": {},
   "outputs": [
    {
     "data": {
      "text/plain": [
       "array([3, 1, 9, 8, 4])"
      ]
     },
     "execution_count": 15,
     "metadata": {},
     "output_type": "execute_result"
    }
   ],
   "source": [
    "np.random.randint(1,10,size=5)#(min,max,size)"
   ]
  },
  {
   "cell_type": "code",
   "execution_count": 16,
   "id": "2486f66f-f070-4dce-9c84-844ba059886e",
   "metadata": {},
   "outputs": [
    {
     "data": {
      "text/plain": [
       "array([[13,  1,  8],\n",
       "       [ 4,  5,  8],\n",
       "       [ 7,  4,  9]])"
      ]
     },
     "execution_count": 16,
     "metadata": {},
     "output_type": "execute_result"
    }
   ],
   "source": [
    "np.random.randint(1,20,size=(3,3))#(min,max,size)"
   ]
  },
  {
   "cell_type": "code",
   "execution_count": null,
   "id": "16ea0c13-dd4b-4245-ad98-032f33f56916",
   "metadata": {},
   "outputs": [],
   "source": []
  }
 ],
 "metadata": {
  "kernelspec": {
   "display_name": "Python 3 (ipykernel)",
   "language": "python",
   "name": "python3"
  },
  "language_info": {
   "codemirror_mode": {
    "name": "ipython",
    "version": 3
   },
   "file_extension": ".py",
   "mimetype": "text/x-python",
   "name": "python",
   "nbconvert_exporter": "python",
   "pygments_lexer": "ipython3",
   "version": "3.11.7"
  }
 },
 "nbformat": 4,
 "nbformat_minor": 5
}
