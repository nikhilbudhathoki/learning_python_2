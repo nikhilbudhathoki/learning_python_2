{
 "cells": [
  {
   "cell_type": "code",
   "execution_count": 1,
   "id": "e4a7511b-3a19-44f9-b803-47e85b451180",
   "metadata": {},
   "outputs": [],
   "source": [
    "import pandas as pd\n",
    "import numpy as np"
   ]
  },
  {
   "cell_type": "code",
   "execution_count": 2,
   "id": "444a9f53-ac5b-41bd-8cbc-2c11c8a46683",
   "metadata": {},
   "outputs": [
    {
     "data": {
      "text/plain": [
       "array([51, 92, 14, 71, 60, 20, 82, 86, 74, 74])"
      ]
     },
     "execution_count": 2,
     "metadata": {},
     "output_type": "execute_result"
    }
   ],
   "source": [
    "rand=np.random.RandomState(42)\n",
    "x=rand.randint(100,size=10)\n",
    "x"
   ]
  },
  {
   "cell_type": "code",
   "execution_count": 3,
   "id": "094fe2f6-4921-49ef-93e4-ab5fac740b81",
   "metadata": {},
   "outputs": [
    {
     "data": {
      "text/plain": [
       "[92, 71, 51]"
      ]
     },
     "execution_count": 3,
     "metadata": {},
     "output_type": "execute_result"
    }
   ],
   "source": [
    "[x[1],x[3],x[0]]#making list of array elements"
   ]
  },
  {
   "cell_type": "code",
   "execution_count": 4,
   "id": "6c0d7f1d-3d30-43a3-bb62-3cc4aa336ded",
   "metadata": {},
   "outputs": [
    {
     "data": {
      "text/plain": [
       "array([92, 71, 51])"
      ]
     },
     "execution_count": 4,
     "metadata": {},
     "output_type": "execute_result"
    }
   ],
   "source": [
    "indeces=[1,3,0]\n",
    "x[indeces]"
   ]
  },
  {
   "cell_type": "code",
   "execution_count": 5,
   "id": "c66cd10b-740c-4d23-a3d1-a4e91f46c0aa",
   "metadata": {},
   "outputs": [],
   "source": [
    "arr=[[2,7]\n",
    "     ,[8,4]]"
   ]
  },
  {
   "cell_type": "code",
   "execution_count": 6,
   "id": "6002ccc5-e247-4b53-a42e-569034a23c82",
   "metadata": {},
   "outputs": [
    {
     "data": {
      "text/plain": [
       "array([[14, 86],\n",
       "       [74, 60]])"
      ]
     },
     "execution_count": 6,
     "metadata": {},
     "output_type": "execute_result"
    }
   ],
   "source": [
    "x[arr]#we can make 2d matrices from 1d matrices"
   ]
  },
  {
   "cell_type": "markdown",
   "id": "6432a284-a8d3-4ace-95f6-beab33bdf95a",
   "metadata": {},
   "source": [
    "### SORTING ARRAY"
   ]
  },
  {
   "cell_type": "code",
   "execution_count": 7,
   "id": "35339e12-5486-4281-95e4-f534828eb8d7",
   "metadata": {},
   "outputs": [],
   "source": [
    "x=np.array([2,4,3,1,0])\n",
    "a=np.sort(x)#does sort temporarily"
   ]
  },
  {
   "cell_type": "code",
   "execution_count": 8,
   "id": "d213d867-1394-455c-955e-cba4f751fcda",
   "metadata": {},
   "outputs": [
    {
     "data": {
      "text/plain": [
       "array([2, 4, 3, 1, 0])"
      ]
     },
     "execution_count": 8,
     "metadata": {},
     "output_type": "execute_result"
    }
   ],
   "source": [
    "x"
   ]
  },
  {
   "cell_type": "code",
   "execution_count": 9,
   "id": "d97499df-ecb3-4626-9e8a-b0e1d49b340f",
   "metadata": {},
   "outputs": [
    {
     "data": {
      "text/plain": [
       "array([0, 1, 2, 3, 4])"
      ]
     },
     "execution_count": 9,
     "metadata": {},
     "output_type": "execute_result"
    }
   ],
   "source": [
    "a"
   ]
  },
  {
   "cell_type": "code",
   "execution_count": 10,
   "id": "93cf1aee-3b83-451f-b8a1-9cfb52bdcfda",
   "metadata": {},
   "outputs": [
    {
     "name": "stdout",
     "output_type": "stream",
     "text": [
      "310 ns ± 39.9 ns per loop (mean ± std. dev. of 7 runs, 1,000,000 loops each)\n"
     ]
    }
   ],
   "source": [
    "%timeit x.sort()"
   ]
  },
  {
   "cell_type": "code",
   "execution_count": 11,
   "id": "b5f41e28-af17-45de-8222-f1b3a24c390f",
   "metadata": {},
   "outputs": [
    {
     "data": {
      "text/plain": [
       "array([0, 1, 2, 3, 4])"
      ]
     },
     "execution_count": 11,
     "metadata": {},
     "output_type": "execute_result"
    }
   ],
   "source": [
    "x"
   ]
  },
  {
   "cell_type": "code",
   "execution_count": 12,
   "id": "a88426c5-af4a-4f99-b6b8-6b50947d56d0",
   "metadata": {},
   "outputs": [
    {
     "data": {
      "text/plain": [
       "array([4, 3, 0, 2, 1], dtype=int64)"
      ]
     },
     "execution_count": 12,
     "metadata": {},
     "output_type": "execute_result"
    }
   ],
   "source": [
    "x=np.array([2,4,3,1,0])\n",
    "np.argsort(x)#gives the index of original after sorting"
   ]
  },
  {
   "cell_type": "code",
   "execution_count": 13,
   "id": "79401bfd-3ddd-40fd-84a2-92581493e27f",
   "metadata": {},
   "outputs": [
    {
     "data": {
      "text/plain": [
       "array([[6, 3, 7, 4, 6, 9],\n",
       "       [2, 6, 7, 4, 3, 7],\n",
       "       [7, 2, 5, 4, 1, 7],\n",
       "       [5, 1, 4, 0, 9, 5]])"
      ]
     },
     "execution_count": 13,
     "metadata": {},
     "output_type": "execute_result"
    }
   ],
   "source": [
    "rand=np.random.RandomState(42)\n",
    "x=rand.randint(0,10,(4,6))\n",
    "x"
   ]
  },
  {
   "cell_type": "code",
   "execution_count": 14,
   "id": "53922115-bcc3-4eec-9825-8dabeb0e9624",
   "metadata": {},
   "outputs": [
    {
     "data": {
      "text/plain": [
       "array([[3, 4, 6, 6, 7, 9],\n",
       "       [2, 3, 4, 6, 7, 7],\n",
       "       [1, 2, 4, 5, 7, 7],\n",
       "       [0, 1, 4, 5, 5, 9]])"
      ]
     },
     "execution_count": 14,
     "metadata": {},
     "output_type": "execute_result"
    }
   ],
   "source": [
    "np.sort(x)#sort the rows in the matrix"
   ]
  },
  {
   "cell_type": "code",
   "execution_count": 15,
   "id": "99dcd7d3-f885-4897-a350-36d463004d38",
   "metadata": {},
   "outputs": [
    {
     "data": {
      "text/plain": [
       "array([[2, 1, 4, 0, 1, 5],\n",
       "       [5, 2, 5, 4, 3, 7],\n",
       "       [6, 3, 7, 4, 6, 7],\n",
       "       [7, 6, 7, 4, 9, 9]])"
      ]
     },
     "execution_count": 15,
     "metadata": {},
     "output_type": "execute_result"
    }
   ],
   "source": [
    "np.sort(x,axis=0)#sort the column in the matrix"
   ]
  },
  {
   "cell_type": "code",
   "execution_count": 16,
   "id": "b0846092-fbc0-4a04-9961-12cd78a2a8c7",
   "metadata": {},
   "outputs": [
    {
     "data": {
      "text/plain": [
       "array([7, 2, 3, 1, 6, 5, 4])"
      ]
     },
     "execution_count": 16,
     "metadata": {},
     "output_type": "execute_result"
    }
   ],
   "source": [
    "x=np.array([7,2,3,1,6,5,4])\n",
    "x"
   ]
  },
  {
   "cell_type": "code",
   "execution_count": 17,
   "id": "744da7bf-bdd0-4508-bd4d-54258ceae1e6",
   "metadata": {},
   "outputs": [
    {
     "data": {
      "text/plain": [
       "array([2, 1, 3, 4, 5, 6, 7])"
      ]
     },
     "execution_count": 17,
     "metadata": {},
     "output_type": "execute_result"
    }
   ],
   "source": [
    "np.partition(x,4)"
   ]
  },
  {
   "cell_type": "markdown",
   "id": "750ea017-4708-4742-92d6-0a1b1c902a0a",
   "metadata": {},
   "source": [
    "### WE USED PARTITION TO SPERATE FROM A SPECIFIC POINT TO FULLFILL THE SPECIFIC CODITION AROUND THE POINT.IT SEPERATES BIGGER AND SMALLER NUMBER FROM A SPECIIC POINT"
   ]
  },
  {
   "cell_type": "code",
   "execution_count": 18,
   "id": "6fe6ef62-28c0-4026-880a-3ea920ec0991",
   "metadata": {},
   "outputs": [
    {
     "data": {
      "text/plain": [
       "array([[6, 3, 7, 4, 6, 9],\n",
       "       [2, 6, 7, 4, 3, 7],\n",
       "       [7, 2, 5, 4, 1, 7],\n",
       "       [5, 1, 4, 0, 9, 5]])"
      ]
     },
     "execution_count": 18,
     "metadata": {},
     "output_type": "execute_result"
    }
   ],
   "source": [
    "rand=np.random.RandomState(42)\n",
    "x=rand.randint(0,10,(4,6))\n",
    "x"
   ]
  },
  {
   "cell_type": "code",
   "execution_count": 19,
   "id": "47153c52-1f69-4a36-8e3e-ac4f1ec74077",
   "metadata": {},
   "outputs": [
    {
     "data": {
      "text/plain": [
       "array([[3, 4, 6, 7, 6, 9],\n",
       "       [2, 3, 4, 7, 6, 7],\n",
       "       [1, 2, 4, 5, 7, 7],\n",
       "       [0, 1, 4, 5, 9, 5]])"
      ]
     },
     "execution_count": 19,
     "metadata": {},
     "output_type": "execute_result"
    }
   ],
   "source": [
    "np.partition(x,2)#all element to the right is bigger from point 4(index=3)"
   ]
  },
  {
   "cell_type": "code",
   "execution_count": 20,
   "id": "fe4c80e6-4c4a-4519-90f0-0e967b9a41ca",
   "metadata": {},
   "outputs": [
    {
     "data": {
      "text/plain": [
       "array([[ 4,  0, 17, 16],\n",
       "       [19, 17,  2, 14],\n",
       "       [ 0,  3, 18, 11],\n",
       "       [ 1, 15,  2, 11]])"
      ]
     },
     "execution_count": 20,
     "metadata": {},
     "output_type": "execute_result"
    }
   ],
   "source": [
    "ran=np.random.RandomState(43)\n",
    "y=ran.randint(0,20,(4,4))\n",
    "y"
   ]
  },
  {
   "cell_type": "code",
   "execution_count": 21,
   "id": "d9bf4546-7235-4ddb-ba54-985a45c7d079",
   "metadata": {},
   "outputs": [
    {
     "data": {
      "text/plain": [
       "array([[ 0,  0,  2, 11],\n",
       "       [ 1,  3,  2, 11],\n",
       "       [ 4, 15, 17, 14],\n",
       "       [19, 17, 18, 16]])"
      ]
     },
     "execution_count": 21,
     "metadata": {},
     "output_type": "execute_result"
    }
   ],
   "source": [
    "np.partition(y,2, axis=0)#Now it becomes row wise"
   ]
  },
  {
   "cell_type": "markdown",
   "id": "1b81ca37-4cfb-430c-b706-179f1c3cac4b",
   "metadata": {},
   "source": [
    "### IT DOES NOT DO SORTING IN ANY WAY BUT CONCIDENCE CAN HAPPEN"
   ]
  },
  {
   "cell_type": "markdown",
   "id": "a03d79be-3b31-4497-aa29-689f88c91bd8",
   "metadata": {},
   "source": [
    "### STRUCTURED DATA :NUMPY'S STRUCTURED ARRAYS"
   ]
  },
  {
   "cell_type": "code",
   "execution_count": 22,
   "id": "4c699957-e33c-4e6b-8c6e-fe6ea812fdad",
   "metadata": {},
   "outputs": [
    {
     "data": {
      "text/plain": [
       "dtype([('name', '<U10'), ('age', '<i4'), ('wt', '<f8')])"
      ]
     },
     "execution_count": 22,
     "metadata": {},
     "output_type": "execute_result"
    }
   ],
   "source": [
    "name=['Ram','Sam','Hemant','Raju']\n",
    "age=[22,23,24,19]\n",
    "wt=[50,60,55,63]\n",
    "data=np.zeros(4,dtype={'names':('name','age','wt'),\n",
    "                       'formats':('U10','i4','f8')})\n",
    "data.dtype"
   ]
  },
  {
   "cell_type": "code",
   "execution_count": 23,
   "id": "8ec09884-af88-4f27-b0cd-939ec0acf5dc",
   "metadata": {},
   "outputs": [],
   "source": [
    "data['name']=name\n",
    "data['age']=age\n",
    "data['wt']=wt"
   ]
  },
  {
   "cell_type": "code",
   "execution_count": 24,
   "id": "f2255f9b-2b52-42b4-acd6-a7887231ff6c",
   "metadata": {},
   "outputs": [
    {
     "data": {
      "text/plain": [
       "array([('Ram', 22, 50.), ('Sam', 23, 60.), ('Hemant', 24, 55.),\n",
       "       ('Raju', 19, 63.)],\n",
       "      dtype=[('name', '<U10'), ('age', '<i4'), ('wt', '<f8')])"
      ]
     },
     "execution_count": 24,
     "metadata": {},
     "output_type": "execute_result"
    }
   ],
   "source": [
    "data"
   ]
  },
  {
   "cell_type": "code",
   "execution_count": null,
   "id": "49c5a333-d6a7-4f90-9d17-8e487b39b3e8",
   "metadata": {},
   "outputs": [],
   "source": []
  },
  {
   "cell_type": "code",
   "execution_count": null,
   "id": "47a4c371-94bf-4fd1-a8f8-47ecd0685bae",
   "metadata": {},
   "outputs": [],
   "source": []
  },
  {
   "cell_type": "code",
   "execution_count": 25,
   "id": "4da528bd-c91a-4cf5-b415-11fde873c9fb",
   "metadata": {},
   "outputs": [
    {
     "data": {
      "text/plain": [
       "array([('Ram', 'bahadur'), ('Sam', 'kc'), ('Hemant', 'bc'),\n",
       "       ('Raju', 'lc')], dtype=[('name', '<U10'), ('caste', '<U10')])"
      ]
     },
     "execution_count": 25,
     "metadata": {},
     "output_type": "execute_result"
    }
   ],
   "source": [
    "name=['Ram','Sam','Hemant','Raju']\n",
    "caste=['bahadur','kc','bc','lc']\n",
    "data=np.zeros(4,dtype={'names':('name','caste'),\n",
    "                       'formats':('U10','U10')})\n",
    "data['name']=name\n",
    "data['caste']=caste\n",
    "data"
   ]
  },
  {
   "cell_type": "code",
   "execution_count": 26,
   "id": "68709510-6b80-48d6-8a40-8113fadbcbb3",
   "metadata": {},
   "outputs": [
    {
     "data": {
      "text/plain": [
       "array(['Ram', 'Sam', 'Hemant', 'Raju'], dtype='<U10')"
      ]
     },
     "execution_count": 26,
     "metadata": {},
     "output_type": "execute_result"
    }
   ],
   "source": [
    "data['name']"
   ]
  },
  {
   "cell_type": "code",
   "execution_count": 27,
   "id": "b306a575-e07c-4a27-853f-06a2892629a9",
   "metadata": {},
   "outputs": [
    {
     "data": {
      "text/plain": [
       "array(['bahadur', 'kc', 'bc', 'lc'], dtype='<U10')"
      ]
     },
     "execution_count": 27,
     "metadata": {},
     "output_type": "execute_result"
    }
   ],
   "source": [
    "data['caste']"
   ]
  },
  {
   "cell_type": "code",
   "execution_count": 31,
   "id": "0ff67236-5a11-46a4-9ab3-a22504c9f843",
   "metadata": {},
   "outputs": [
    {
     "data": {
      "text/plain": [
       "array([('Metamorpho', 'Franz Kafk'), ('God is dea', 'Friedrich '),\n",
       "       ('Republic', 'Plato')],\n",
       "      dtype=[('books', '<U10'), ('authors', '<U10')])"
      ]
     },
     "execution_count": 31,
     "metadata": {},
     "output_type": "execute_result"
    }
   ],
   "source": [
    "books=['Metamorphosis','God is dead','Republic']\n",
    "authors=['Franz Kafka','Friedrich Nitzae','Plato']\n",
    "data=np.zeros(3,dtype={'names':('books','authors')\n",
    "                       ,'formats':('U10','U10')})\n",
    "data['books']=books\n",
    "data['authors']=authors\n",
    "data"
   ]
  },
  {
   "cell_type": "markdown",
   "id": "497b8da7-4614-4d92-b1fa-70ae021eb6f9",
   "metadata": {},
   "source": [
    "#### SERIES IS ONE DIMENSIONAL AND DATAFRAMES ARE MULTIDIMENSIONAL ARRAY WITH ROW AND COLUMN"
   ]
  },
  {
   "cell_type": "code",
   "execution_count": null,
   "id": "8ad9eb93-b966-41fa-ad57-3b8774a1ff44",
   "metadata": {},
   "outputs": [],
   "source": []
  },
  {
   "cell_type": "code",
   "execution_count": null,
   "id": "bfde252b-1c9b-4770-8b48-da61b9e60455",
   "metadata": {},
   "outputs": [],
   "source": []
  }
 ],
 "metadata": {
  "kernelspec": {
   "display_name": "Python 3 (ipykernel)",
   "language": "python",
   "name": "python3"
  },
  "language_info": {
   "codemirror_mode": {
    "name": "ipython",
    "version": 3
   },
   "file_extension": ".py",
   "mimetype": "text/x-python",
   "name": "python",
   "nbconvert_exporter": "python",
   "pygments_lexer": "ipython3",
   "version": "3.11.7"
  }
 },
 "nbformat": 4,
 "nbformat_minor": 5
}
